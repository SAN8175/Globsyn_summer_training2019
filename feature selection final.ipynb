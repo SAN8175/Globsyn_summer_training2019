{
 "cells": [
  {
   "cell_type": "code",
   "execution_count": 10,
   "metadata": {},
   "outputs": [
    {
     "name": "stdout",
     "output_type": "stream",
     "text": [
      "scaled data from dataset : \n",
      " [-0.72317652  1.39665032  0.70770454  0.45197045  0.28923879 -0.62992805\n",
      " -0.49676592 -0.44870244  0.2295467  -0.45989802 -0.40711383 -0.53351386\n",
      " -0.36422935 -0.28011851  0.15003321 -0.13715694]\n",
      "               0\n",
      "0   1.919969e+00\n",
      "1   1.354802e+01\n",
      "2   3.396899e+00\n",
      "3   2.390458e+00\n",
      "4   7.853920e+00\n",
      "5   4.051057e+00\n",
      "6   1.887079e+00\n",
      "7  -1.028536e+17\n",
      "8   1.421144e+01\n",
      "9   1.416367e+01\n",
      "10  5.255315e+00\n",
      "11  8.332993e+00\n",
      "12  5.256214e+00\n",
      "13  5.338420e+00\n",
      "14  7.887302e-01\n",
      "15  7.955683e-01\n"
     ]
    },
    {
     "name": "stderr",
     "output_type": "stream",
     "text": [
      "C:\\Users\\sayan\\Anaconda3\\lib\\site-packages\\sklearn\\preprocessing\\data.py:645: DataConversionWarning: Data with input dtype int64, float64 were all converted to float64 by StandardScaler.\n",
      "  return self.partial_fit(X, y)\n",
      "C:\\Users\\sayan\\Anaconda3\\lib\\site-packages\\sklearn\\base.py:464: DataConversionWarning: Data with input dtype int64, float64 were all converted to float64 by StandardScaler.\n",
      "  return self.fit(X, **fit_params).transform(X)\n"
     ]
    },
    {
     "data": {
      "text/html": [
       "<div>\n",
       "<style scoped>\n",
       "    .dataframe tbody tr th:only-of-type {\n",
       "        vertical-align: middle;\n",
       "    }\n",
       "\n",
       "    .dataframe tbody tr th {\n",
       "        vertical-align: top;\n",
       "    }\n",
       "\n",
       "    .dataframe thead th {\n",
       "        text-align: right;\n",
       "    }\n",
       "</style>\n",
       "<table border=\"1\" class=\"dataframe\">\n",
       "  <thead>\n",
       "    <tr style=\"text-align: right;\">\n",
       "      <th></th>\n",
       "      <th>0</th>\n",
       "    </tr>\n",
       "  </thead>\n",
       "  <tbody>\n",
       "    <tr>\n",
       "      <th>7</th>\n",
       "      <td>-1.028536e+17</td>\n",
       "    </tr>\n",
       "    <tr>\n",
       "      <th>14</th>\n",
       "      <td>7.887302e-01</td>\n",
       "    </tr>\n",
       "    <tr>\n",
       "      <th>15</th>\n",
       "      <td>7.955683e-01</td>\n",
       "    </tr>\n",
       "    <tr>\n",
       "      <th>6</th>\n",
       "      <td>1.887079e+00</td>\n",
       "    </tr>\n",
       "    <tr>\n",
       "      <th>0</th>\n",
       "      <td>1.919969e+00</td>\n",
       "    </tr>\n",
       "    <tr>\n",
       "      <th>3</th>\n",
       "      <td>2.390458e+00</td>\n",
       "    </tr>\n",
       "    <tr>\n",
       "      <th>2</th>\n",
       "      <td>3.396899e+00</td>\n",
       "    </tr>\n",
       "    <tr>\n",
       "      <th>5</th>\n",
       "      <td>4.051057e+00</td>\n",
       "    </tr>\n",
       "    <tr>\n",
       "      <th>10</th>\n",
       "      <td>5.255315e+00</td>\n",
       "    </tr>\n",
       "    <tr>\n",
       "      <th>12</th>\n",
       "      <td>5.256214e+00</td>\n",
       "    </tr>\n",
       "    <tr>\n",
       "      <th>13</th>\n",
       "      <td>5.338420e+00</td>\n",
       "    </tr>\n",
       "    <tr>\n",
       "      <th>4</th>\n",
       "      <td>7.853920e+00</td>\n",
       "    </tr>\n",
       "    <tr>\n",
       "      <th>11</th>\n",
       "      <td>8.332993e+00</td>\n",
       "    </tr>\n",
       "    <tr>\n",
       "      <th>1</th>\n",
       "      <td>1.354802e+01</td>\n",
       "    </tr>\n",
       "    <tr>\n",
       "      <th>9</th>\n",
       "      <td>1.416367e+01</td>\n",
       "    </tr>\n",
       "    <tr>\n",
       "      <th>8</th>\n",
       "      <td>1.421144e+01</td>\n",
       "    </tr>\n",
       "  </tbody>\n",
       "</table>\n",
       "</div>"
      ],
      "text/plain": [
       "               0\n",
       "7  -1.028536e+17\n",
       "14  7.887302e-01\n",
       "15  7.955683e-01\n",
       "6   1.887079e+00\n",
       "0   1.919969e+00\n",
       "3   2.390458e+00\n",
       "2   3.396899e+00\n",
       "5   4.051057e+00\n",
       "10  5.255315e+00\n",
       "12  5.256214e+00\n",
       "13  5.338420e+00\n",
       "4   7.853920e+00\n",
       "11  8.332993e+00\n",
       "1   1.354802e+01\n",
       "9   1.416367e+01\n",
       "8   1.421144e+01"
      ]
     },
     "execution_count": 10,
     "metadata": {},
     "output_type": "execute_result"
    }
   ],
   "source": [
    "import pandas as pd\n",
    "import numpy as np\n",
    "from sklearn.model_selection import train_test_split\n",
    "from sklearn.preprocessing import StandardScaler\n",
    "from sklearn.neighbors import KNeighborsClassifier\n",
    "from sklearn.metrics import confusion_matrix\n",
    "from sklearn.metrics import f1_score\n",
    "from sklearn.feature_selection import SelectKBest, f_classif\n",
    "\n",
    "df = pd.read_csv(\"ATP Dataset_2012-01 to 2017-07_Int_V4.csv\")\n",
    "df = df.drop(['ATP','Tournament','Series','Court','Surface','Round','Winner','Player1','Player2'],axis=1) ### Drop the no need vars.\n",
    "df.dropna(inplace= True)     ### Drop the NaN Value \n",
    "\n",
    "\n",
    "\n",
    "X = df.iloc[:,0:16]  ### independent Column   --->independent var\n",
    "Y = df.iloc[:,7]           ### ---> dependent var\n",
    "\n",
    "\n",
    "sc_X = StandardScaler()\n",
    "Xdata = sc_X.fit_transform(X)\n",
    "print(\"scaled data from dataset : \\n\",Xdata[2])\n",
    "\n",
    "###Best features = selectk\n",
    "df.dropna(inplace=True)\n",
    "bestfeatures = SelectKBest(score_func=f_classif,k=5)\n",
    "fit = bestfeatures.fit(Xdata,Y)\n",
    "dfscores = pd.DataFrame(fit.scores_)\n",
    "dfcolumns = pd.DataFrame(Xdata)\n",
    "print(dfscores)\n",
    "#dfscores.sort()\n",
    "\n",
    "dfscores.sort_values(0) ######asking parameter by"
   ]
  },
  {
   "cell_type": "code",
   "execution_count": 3,
   "metadata": {},
   "outputs": [],
   "source": [
    "\n",
    "\n",
    "\n"
   ]
  },
  {
   "cell_type": "code",
   "execution_count": 4,
   "metadata": {},
   "outputs": [],
   "source": []
  },
  {
   "cell_type": "code",
   "execution_count": null,
   "metadata": {},
   "outputs": [],
   "source": []
  },
  {
   "cell_type": "code",
   "execution_count": 5,
   "metadata": {},
   "outputs": [
    {
     "name": "stdout",
     "output_type": "stream",
     "text": [
      "[-0.72317652  1.39665032  0.70770454  0.45197045  0.28923879 -0.62992805\n",
      " -0.49676592 -0.44870244  0.2295467  -0.45989802 -0.40711383 -0.53351386\n",
      " -0.36422935 -0.28011851  0.15003321 -0.13715694]\n"
     ]
    },
    {
     "name": "stderr",
     "output_type": "stream",
     "text": [
      "C:\\Users\\sayan\\Anaconda3\\lib\\site-packages\\sklearn\\preprocessing\\data.py:645: DataConversionWarning: Data with input dtype int64, float64 were all converted to float64 by StandardScaler.\n",
      "  return self.partial_fit(X, y)\n",
      "C:\\Users\\sayan\\Anaconda3\\lib\\site-packages\\sklearn\\base.py:464: DataConversionWarning: Data with input dtype int64, float64 were all converted to float64 by StandardScaler.\n",
      "  return self.fit(X, **fit_params).transform(X)\n"
     ]
    }
   ],
   "source": [
    "#zero_not_accepted = ['Tournament_Int','Date','Series_Int','Court_Int','Surface_Int','Round_Int','Best_of','Winner_Int','Player1_Int','Player2_Int','Player1_Rank','Player2_Rank','Player1_Odds','Player2_Odds','Player1_Implied_Prob','Player2_Implied_Prob']\n",
    "#for column in zero_not_accepted:\n",
    "#    df[column] = df[column].replace(0,np.NaN)\n",
    "#    mean = int(df[column].mean(skipna = True))\n",
    "#    df[column] = df[column].replace(np.NaN,mean)\n",
    "    \n",
    "sc_X = StandardScaler()\n",
    "Xdata = sc_X.fit_transform(X)\n",
    "print(Xdata[2])\n",
    "    "
   ]
  },
  {
   "cell_type": "code",
   "execution_count": 6,
   "metadata": {},
   "outputs": [
    {
     "name": "stdout",
     "output_type": "stream",
     "text": [
      "               0\n",
      "0   1.919969e+00\n",
      "1   1.354802e+01\n",
      "2   3.396899e+00\n",
      "3   2.390458e+00\n",
      "4   7.853920e+00\n",
      "5   4.051057e+00\n",
      "6   1.887079e+00\n",
      "7  -1.028536e+17\n",
      "8   1.421144e+01\n",
      "9   1.416367e+01\n",
      "10  5.255315e+00\n",
      "11  8.332993e+00\n",
      "12  5.256214e+00\n",
      "13  5.338420e+00\n",
      "14  7.887302e-01\n",
      "15  7.955683e-01\n"
     ]
    }
   ],
   "source": []
  },
  {
   "cell_type": "code",
   "execution_count": 9,
   "metadata": {},
   "outputs": [
    {
     "name": "stdout",
     "output_type": "stream",
     "text": [
      "<class 'pandas.core.frame.DataFrame'>\n",
      "Int64Index: 14697 entries, 0 to 14734\n",
      "Data columns (total 16 columns):\n",
      "Tournament_Int          14697 non-null float64\n",
      "Date                    14697 non-null int64\n",
      "Series_Int              14697 non-null float64\n",
      "Court_Int               14697 non-null float64\n",
      "Surface_Int             14697 non-null float64\n",
      "Round_Int               14697 non-null float64\n",
      "Best_of                 14697 non-null int64\n",
      "Winner_Int              14697 non-null float64\n",
      "Player1_Int             14697 non-null float64\n",
      "Player2_Int             14697 non-null float64\n",
      "Player1_Rank            14697 non-null float64\n",
      "Player2_Rank            14697 non-null float64\n",
      "Player1_Odds            14697 non-null float64\n",
      "Player2_Odds            14697 non-null float64\n",
      "Player1_Implied_Prob    14697 non-null float64\n",
      "Player2_Implied_Prob    14697 non-null float64\n",
      "dtypes: float64(14), int64(2)\n",
      "memory usage: 1.9 MB\n"
     ]
    }
   ],
   "source": [
    "df.info()"
   ]
  },
  {
   "cell_type": "code",
   "execution_count": null,
   "metadata": {},
   "outputs": [],
   "source": []
  }
 ],
 "metadata": {
  "kernelspec": {
   "display_name": "Python 3",
   "language": "python",
   "name": "python3"
  },
  "language_info": {
   "codemirror_mode": {
    "name": "ipython",
    "version": 3
   },
   "file_extension": ".py",
   "mimetype": "text/x-python",
   "name": "python",
   "nbconvert_exporter": "python",
   "pygments_lexer": "ipython3",
   "version": "3.7.3"
  }
 },
 "nbformat": 4,
 "nbformat_minor": 2
}
